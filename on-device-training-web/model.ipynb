{
  "cells": [
    {
      "cell_type": "code",
      "execution_count": 7,
      "metadata": {
        "id": "1kLiTYqxjlkL"
      },
      "outputs": [
        {
          "name": "stderr",
          "output_type": "stream",
          "text": [
            "/Library/Frameworks/Python.framework/Versions/3.12/lib/python3.12/site-packages/tqdm/auto.py:21: TqdmWarning: IProgress not found. Please update jupyter and ipywidgets. See https://ipywidgets.readthedocs.io/en/stable/user_install.html\n",
            "  from .autonotebook import tqdm as notebook_tqdm\n"
          ]
        }
      ],
      "source": [
        "import onnxruntime.training.onnxblock as onnxblock\n",
        "from onnxruntime.training.api import CheckpointState, Module, Optimizer\n",
        "from onnxruntime.training import artifacts\n",
        "from onnxruntime import InferenceSession\n",
        "from torchvision import datasets, transforms\n",
        "import matplotlib.pyplot as plt\n",
        "import numpy as np\n",
        "import torch\n",
        "import onnx\n",
        "import io\n",
        "import netron\n",
        "import evaluate"
      ]
    },
    {
      "cell_type": "code",
      "execution_count": 2,
      "metadata": {
        "id": "4NcwGo87kxcC"
      },
      "outputs": [],
      "source": [
        "class XSumNet(torch.nn.Module):\n",
        "    def __init__(self, input_size, hidden_size, num_classes):\n",
        "        super(XSumNet, self).__init__()\n",
        "\n",
        "        self.fc1 = torch.nn.Linear(input_size, hidden_size)\n",
        "        self.relu = torch.nn.ReLU()\n",
        "        self.fc2 = torch.nn.Linear(hidden_size, num_classes)\n",
        "\n",
        "    def forward(self, model_input):\n",
        "        out = self.fc1(model_input)\n",
        "        out = self.relu(out)\n",
        "        out = self.fc2(out)\n",
        "        return out\n",
        "\n",
        "device = \"cpu\"\n",
        "batch_size, input_size, hidden_size, output_size = 64, 784, 500, 10\n",
        "pt_model = XSumNet(input_size, hidden_size, output_size).to(device)"
      ]
    },
    {
      "cell_type": "code",
      "execution_count": 3,
      "metadata": {
        "id": "UsPR6aIskzLB"
      },
      "outputs": [],
      "source": [
        "model_inputs = (torch.randn(batch_size, input_size, device=device),)\n",
        "\n",
        "input_names = [\"input\"]\n",
        "output_names = [\"output\"]\n",
        "dynamic_axes = {\"input\": {0: \"batch_size\"}, \"output\": {0: \"batch_size\"}}\n",
        "\n",
        "f = io.BytesIO()\n",
        "torch.onnx.export(\n",
        "    pt_model,\n",
        "    model_inputs,\n",
        "    f,\n",
        "    input_names=input_names,\n",
        "    output_names=output_names,\n",
        "    opset_version=14,\n",
        "    do_constant_folding=False,\n",
        "    training=torch.onnx.TrainingMode.TRAINING,\n",
        "    dynamic_axes=dynamic_axes,\n",
        "    export_params=True,\n",
        "    keep_initializers_as_inputs=False,\n",
        ")\n",
        "onnx_model = onnx.load_model_from_string(f.getvalue())"
      ]
    },
    {
      "cell_type": "code",
      "execution_count": 4,
      "metadata": {
        "id": "L0zxFWrnk0sY"
      },
      "outputs": [
        {
          "name": "stderr",
          "output_type": "stream",
          "text": [
            "2024-08-01 16:33:57.419611 [I:onnxruntime:Default, graph_transformer.cc:15 Apply] GraphTransformer ConstantSharing modified: 0 with status: OK\n",
            "2024-08-01 16:33:57.419698 [I:onnxruntime:Default, graph_transformer.cc:15 Apply] GraphTransformer ShapeInputMerge modified: 0 with status: OK\n",
            "2024-08-01 16:33:57.419742 [I:onnxruntime:Default, graph_transformer.cc:15 Apply] GraphTransformer LayerNormFusion modified: 0 with status: OK\n",
            "2024-08-01 16:33:57.419781 [I:onnxruntime:Default, graph_transformer.cc:15 Apply] GraphTransformer CommonSubexpressionElimination modified: 0 with status: OK\n",
            "2024-08-01 16:33:57.419787 [I:onnxruntime:Default, graph_transformer.cc:15 Apply] GraphTransformer GeluFusion modified: 0 with status: OK\n",
            "2024-08-01 16:33:57.419794 [I:onnxruntime:Default, graph_transformer.cc:15 Apply] GraphTransformer SimplifiedLayerNormFusion modified: 0 with status: OK\n",
            "2024-08-01 16:33:57.419799 [I:onnxruntime:Default, graph_transformer.cc:15 Apply] GraphTransformer FastGeluFusion modified: 0 with status: OK\n",
            "2024-08-01 16:33:57.419821 [I:onnxruntime:Default, graph_transformer.cc:15 Apply] GraphTransformer QuickGeluFusion modified: 0 with status: OK\n",
            "2024-08-01 16:33:57.419825 [I:onnxruntime:Default, graph_transformer.cc:15 Apply] GraphTransformer SoftmaxCrossEntropyLossInternalFusion modified: 0 with status: OK\n",
            "2024-08-01 16:33:57.419867 [I:onnxruntime:Default, graph_transformer.cc:15 Apply] GraphTransformer GatherSliceToSplitFusion modified: 0 with status: OK\n",
            "2024-08-01 16:33:57.419878 [I:onnxruntime:Default, graph_transformer.cc:15 Apply] GraphTransformer GatherToSliceFusion modified: 0 with status: OK\n",
            "2024-08-01 16:33:57.419898 [I:onnxruntime:Default, graph_transformer.cc:15 Apply] GraphTransformer QDQFusion modified: 0 with status: OK\n",
            "2024-08-01 16:33:57.419918 [I:onnxruntime:Default, graph_transformer.cc:15 Apply] GraphTransformer ConstantFolding modified: 0 with status: OK\n",
            "2024-08-01 16:33:57.419923 [I:onnxruntime:Default, graph_transformer.cc:15 Apply] GraphTransformer ReshapeFusion modified: 0 with status: OK\n",
            "2024-08-01 16:33:57.419941 [I:onnxruntime:Default, graph_transformer.cc:15 Apply] GraphTransformer ShapeOptimizer modified: 0 with status: OK\n",
            "2024-08-01 16:33:57.419967 [I:onnxruntime:Default, graph_transformer.cc:15 Apply] GraphTransformer ConcatSliceElimination modified: 0 with status: OK\n",
            "2024-08-01 16:33:57.420023 [I:onnxruntime:Default, graph_transformer.cc:15 Apply] GraphTransformer PropagateCastOps modified: 0 with status: OK\n",
            "2024-08-01 16:33:57.420030 [I:onnxruntime:Default, graph_transformer.cc:15 Apply] GraphTransformer Level1_RuleBasedTransformer modified: 0 with status: OK\n",
            "2024-08-01 16:33:57.420035 [I:onnxruntime:Default, graph_transformer.cc:15 Apply] GraphTransformer Level2_RuleBasedTransformer modified: 0 with status: OK\n",
            "2024-08-01 16:33:57.420408 [I:onnxruntime:Default, graph_transformer.cc:15 Apply] GraphTransformer pre_training_rule_based_graph_transformer modified: 0 with status: OK\n"
          ]
        }
      ],
      "source": [
        "requires_grad = [name for name, param in pt_model.named_parameters() if param.requires_grad]\n",
        "\n",
        "frozen_params = [name for name, param in pt_model.named_parameters() if not param.requires_grad]\n",
        "\n",
        "artifacts.generate_artifacts(\n",
        "    onnx_model,\n",
        "    optimizer=artifacts.OptimType.AdamW,\n",
        "    loss=artifacts.LossType.CrossEntropyLoss,\n",
        "    requires_grad=requires_grad,\n",
        "    frozen_params=frozen_params,\n",
        "    additional_output_names=output_names)"
      ]
    },
    {
      "cell_type": "code",
      "execution_count": 8,
      "metadata": {},
      "outputs": [
        {
          "name": "stdout",
          "output_type": "stream",
          "text": [
            "Serving 'eval_model.onnx' at http://localhost:8080\n"
          ]
        },
        {
          "data": {
            "text/plain": [
              "('localhost', 8080)"
            ]
          },
          "execution_count": 8,
          "metadata": {},
          "output_type": "execute_result"
        }
      ],
      "source": [
        "netron.start(\"eval_model.onnx\")"
      ]
    }
  ],
  "metadata": {
    "colab": {
      "provenance": []
    },
    "kernelspec": {
      "display_name": "Python 3",
      "name": "python3"
    },
    "language_info": {
      "codemirror_mode": {
        "name": "ipython",
        "version": 3
      },
      "file_extension": ".py",
      "mimetype": "text/x-python",
      "name": "python",
      "nbconvert_exporter": "python",
      "pygments_lexer": "ipython3",
      "version": "3.12.4"
    }
  },
  "nbformat": 4,
  "nbformat_minor": 0
}
